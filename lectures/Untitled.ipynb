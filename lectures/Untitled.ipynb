{
 "cells": [
  {
   "cell_type": "code",
   "execution_count": 1,
   "id": "08e0651f-1883-4baa-9546-d8ed0a851595",
   "metadata": {},
   "outputs": [],
   "source": [
    "import numpy as np"
   ]
  },
  {
   "cell_type": "code",
   "execution_count": 18,
   "id": "50c9bdbb-c1d5-4c0b-bd06-9d61ec541b4d",
   "metadata": {},
   "outputs": [
    {
     "name": "stdout",
     "output_type": "stream",
     "text": [
      "[[0.1 0.2 0.3 0.4]\n",
      " [0.5 0.6 0.7 0.8]\n",
      " [0.9 1.  1.1 1.2]]\n"
     ]
    }
   ],
   "source": [
    "W1 = (np.arange(1, 13)/10).reshape((3, 4))\n",
    "print(W1)"
   ]
  },
  {
   "cell_type": "code",
   "execution_count": 19,
   "id": "bc5ff9f7-964e-42d9-ac06-a1cfa9b9aec6",
   "metadata": {},
   "outputs": [
    {
     "name": "stdout",
     "output_type": "stream",
     "text": [
      "[[0.1 0.2 0.3]]\n"
     ]
    }
   ],
   "source": [
    "W2 = (np.arange(1, 4)/10).reshape((1, 3))\n",
    "print(W2)"
   ]
  },
  {
   "cell_type": "code",
   "execution_count": 20,
   "id": "a17b6fa7-4e60-42fa-b9ca-7799935160c0",
   "metadata": {},
   "outputs": [],
   "source": [
    "def sigmoid(z):\n",
    "    return 1/(1 + np.exp(-z))"
   ]
  },
  {
   "cell_type": "code",
   "execution_count": 13,
   "id": "bfc71f4d-8860-4c2c-843e-96c0c1b04aa0",
   "metadata": {},
   "outputs": [
    {
     "data": {
      "text/plain": [
       "0.5"
      ]
     },
     "execution_count": 13,
     "metadata": {},
     "output_type": "execute_result"
    }
   ],
   "source": [
    "sigmoid(0)"
   ]
  },
  {
   "cell_type": "code",
   "execution_count": 21,
   "id": "421c9137-6683-4d99-930d-a3425c2928fa",
   "metadata": {},
   "outputs": [
    {
     "data": {
      "text/plain": [
       "array([[0.52497919, 0.549834  , 0.57444252, 0.59868766],\n",
       "       [0.62245933, 0.64565631, 0.66818777, 0.68997448],\n",
       "       [0.7109495 , 0.73105858, 0.75026011, 0.76852478]])"
      ]
     },
     "execution_count": 21,
     "metadata": {},
     "output_type": "execute_result"
    }
   ],
   "source": [
    "sigmoid(W1)"
   ]
  },
  {
   "cell_type": "code",
   "execution_count": 27,
   "id": "ffcb1e50-f8dc-446d-a612-8b6dc177d528",
   "metadata": {},
   "outputs": [],
   "source": [
    "x = [1, .02, .03, .04]"
   ]
  },
  {
   "cell_type": "code",
   "execution_count": 28,
   "id": "667fd465-c757-415f-819c-958ddb918af7",
   "metadata": {},
   "outputs": [
    {
     "data": {
      "text/plain": [
       "array([0.53220535, 0.63760865, 0.73125515])"
      ]
     },
     "execution_count": 28,
     "metadata": {},
     "output_type": "execute_result"
    }
   ],
   "source": [
    "sigmoid(W1 @ x)"
   ]
  },
  {
   "cell_type": "code",
   "execution_count": 29,
   "id": "e7dbfb53-72cb-41fe-ac94-5fe91889db17",
   "metadata": {},
   "outputs": [
    {
     "data": {
      "text/plain": [
       "array([0.40011881])"
      ]
     },
     "execution_count": 29,
     "metadata": {},
     "output_type": "execute_result"
    }
   ],
   "source": [
    "W2 @ sigmoid(W1 @ x)"
   ]
  },
  {
   "cell_type": "code",
   "execution_count": null,
   "id": "12501baf-31de-4e0e-a1df-3b8018f97ceb",
   "metadata": {},
   "outputs": [],
   "source": []
  }
 ],
 "metadata": {
  "kernelspec": {
   "display_name": "Python 3 (ipykernel)",
   "language": "python",
   "name": "python3"
  },
  "language_info": {
   "codemirror_mode": {
    "name": "ipython",
    "version": 3
   },
   "file_extension": ".py",
   "mimetype": "text/x-python",
   "name": "python",
   "nbconvert_exporter": "python",
   "pygments_lexer": "ipython3",
   "version": "3.8.15"
  }
 },
 "nbformat": 4,
 "nbformat_minor": 5
}
