{
 "cells": [
  {
   "cell_type": "markdown",
   "id": "d8bd1b72-e978-4317-99aa-93620c2d1900",
   "metadata": {},
   "source": [
    "# Backprop intuition"
   ]
  },
  {
   "cell_type": "code",
   "execution_count": 8,
   "id": "84be3382-4dad-4752-9fe5-16f7c5715600",
   "metadata": {},
   "outputs": [],
   "source": [
    "import numpy as np\n",
    "\n",
    "def f(x, y, z):\n",
    "    return (x + y) * z"
   ]
  },
  {
   "cell_type": "code",
   "execution_count": 9,
   "id": "723cdc63-bf3f-42ed-a180-6a633aa0c992",
   "metadata": {},
   "outputs": [
    {
     "data": {
      "text/plain": [
       "-12"
      ]
     },
     "execution_count": 9,
     "metadata": {},
     "output_type": "execute_result"
    }
   ],
   "source": [
    "# Calculations\n",
    "\n",
    "f(-2, 5, -4)"
   ]
  },
  {
   "cell_type": "code",
   "execution_count": 10,
   "id": "0bf919a2-ef4b-458c-9902-01ebd2db07cd",
   "metadata": {},
   "outputs": [
    {
     "data": {
      "text/plain": [
       "-12"
      ]
     },
     "execution_count": 10,
     "metadata": {},
     "output_type": "execute_result"
    }
   ],
   "source": [
    "f(-2, 5, -4)"
   ]
  },
  {
   "cell_type": "code",
   "execution_count": null,
   "id": "0e3b3ac5-aa8e-4b56-89a9-fe5dbb624a37",
   "metadata": {},
   "outputs": [],
   "source": []
  },
  {
   "cell_type": "code",
   "execution_count": null,
   "id": "d2e1cf2c-2e98-4f71-8d91-3071b2f9bd1a",
   "metadata": {},
   "outputs": [],
   "source": []
  },
  {
   "cell_type": "code",
   "execution_count": null,
   "id": "680e143e-df5c-42ff-afe1-f12ae61e1236",
   "metadata": {},
   "outputs": [],
   "source": []
  },
  {
   "cell_type": "code",
   "execution_count": null,
   "id": "67cc47da-817b-4124-af3c-e4f774d22d87",
   "metadata": {},
   "outputs": [],
   "source": []
  },
  {
   "cell_type": "code",
   "execution_count": 49,
   "id": "859f186a-477d-4f99-ba65-cf3a0daa933c",
   "metadata": {},
   "outputs": [],
   "source": [
    "def f(w0, w1, x1, w2, x2):\n",
    "    dot = w0 + w1 * x1 + w2 * x2\n",
    "    return 1/(1 + np.exp(-dot))"
   ]
  },
  {
   "cell_type": "code",
   "execution_count": 50,
   "id": "094112cf-fb07-48a6-ad9b-7f6dab0b0816",
   "metadata": {},
   "outputs": [
    {
     "data": {
      "text/plain": [
       "0.7310585786300049"
      ]
     },
     "execution_count": 50,
     "metadata": {},
     "output_type": "execute_result"
    }
   ],
   "source": [
    "# Calculations\n",
    "\n",
    "f(-3, 2, -1, -3, -2)"
   ]
  },
  {
   "cell_type": "code",
   "execution_count": null,
   "id": "96a0d89f-7189-4dfd-8404-a634fc499b99",
   "metadata": {},
   "outputs": [],
   "source": []
  },
  {
   "cell_type": "code",
   "execution_count": null,
   "id": "ada4a0f4-c709-417f-92b0-c1414c8bf0ca",
   "metadata": {},
   "outputs": [],
   "source": []
  },
  {
   "cell_type": "code",
   "execution_count": null,
   "id": "1cf7413c-41ee-45f8-83ce-1dbcecb31376",
   "metadata": {},
   "outputs": [],
   "source": []
  },
  {
   "cell_type": "code",
   "execution_count": null,
   "id": "d35710ab-c66f-40c0-b9de-1ff7c24cbd27",
   "metadata": {},
   "outputs": [],
   "source": []
  },
  {
   "cell_type": "code",
   "execution_count": 51,
   "id": "256c0cf4-baf5-4354-b828-39ce67a71f39",
   "metadata": {},
   "outputs": [],
   "source": [
    "def sigmoid(z):\n",
    "    return 1/(1 + np.exp(-z))"
   ]
  },
  {
   "cell_type": "code",
   "execution_count": null,
   "id": "73d98070-9f82-46dd-9eea-4bdb29b060f5",
   "metadata": {},
   "outputs": [],
   "source": []
  }
 ],
 "metadata": {
  "kernelspec": {
   "display_name": "Python 3 (ipykernel)",
   "language": "python",
   "name": "python3"
  },
  "language_info": {
   "codemirror_mode": {
    "name": "ipython",
    "version": 3
   },
   "file_extension": ".py",
   "mimetype": "text/x-python",
   "name": "python",
   "nbconvert_exporter": "python",
   "pygments_lexer": "ipython3",
   "version": "3.8.15"
  }
 },
 "nbformat": 4,
 "nbformat_minor": 5
}
