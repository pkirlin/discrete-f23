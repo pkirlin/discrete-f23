{
 "cells": [
  {
   "cell_type": "code",
   "execution_count": 1,
   "id": "1481d5f7-8c39-4d14-ac44-50fd471aa43b",
   "metadata": {},
   "outputs": [],
   "source": [
    "import numpy as np\n"
   ]
  },
  {
   "cell_type": "code",
   "execution_count": 19,
   "id": "d804ac70-ffea-41de-a183-2689d018ee3b",
   "metadata": {},
   "outputs": [
    {
     "name": "stdout",
     "output_type": "stream",
     "text": [
      "[0.  0.1 0.2 0.3 0.4 0.5 0.6 0.7 0.8 0.9 1.  1.1 1.2 1.3 1.4 1.5 1.6 1.7\n",
      " 1.8 1.9 2.  2.1 2.2 2.3 2.4 2.5 2.6 2.7 2.8 2.9]\n"
     ]
    }
   ],
   "source": [
    "xarray = np.arange(0, 3, .1)\n",
    "print(xarray)"
   ]
  },
  {
   "cell_type": "code",
   "execution_count": 20,
   "id": "39fabcc0-e12f-4158-9055-d2b58abcfd24",
   "metadata": {},
   "outputs": [],
   "source": [
    "yarray = xarray*xarray - 3*xarray + 1"
   ]
  },
  {
   "cell_type": "code",
   "execution_count": 70,
   "id": "7e28b9d6-155c-4005-9960-0d5c52e72977",
   "metadata": {},
   "outputs": [
    {
     "data": {
      "text/plain": [
       "array([ 1.  ,  0.71,  0.44,  0.19, -0.04, -0.25, -0.44, -0.61, -0.76,\n",
       "       -0.89, -1.  , -1.09, -1.16, -1.21, -1.24, -1.25, -1.24, -1.21,\n",
       "       -1.16, -1.09, -1.  , -0.89, -0.76, -0.61, -0.44, -0.25, -0.04,\n",
       "        0.19,  0.44,  0.71])"
      ]
     },
     "execution_count": 70,
     "metadata": {},
     "output_type": "execute_result"
    }
   ],
   "source": [
    "yarray"
   ]
  },
  {
   "cell_type": "code",
   "execution_count": 71,
   "id": "695f7492-1bc1-4558-aa25-37a249753b5b",
   "metadata": {},
   "outputs": [],
   "source": [
    "X_train = np.hstack([ np.ones((len(xarray), 1)), np.reshape(xarray, (-1, 1)) ] )\n",
    "#X_train = np.hstack([ np.reshape(xarray, (-1, 1))+1, np.reshape(xarray, (-1, 1)) ] )"
   ]
  },
  {
   "cell_type": "code",
   "execution_count": 72,
   "id": "d567672e-f3e0-45cf-a1e8-1dd54bb556de",
   "metadata": {},
   "outputs": [
    {
     "name": "stdout",
     "output_type": "stream",
     "text": [
      "[[1.  0. ]\n",
      " [1.  0.1]\n",
      " [1.  0.2]\n",
      " [1.  0.3]\n",
      " [1.  0.4]\n",
      " [1.  0.5]\n",
      " [1.  0.6]\n",
      " [1.  0.7]\n",
      " [1.  0.8]\n",
      " [1.  0.9]\n",
      " [1.  1. ]\n",
      " [1.  1.1]\n",
      " [1.  1.2]\n",
      " [1.  1.3]\n",
      " [1.  1.4]\n",
      " [1.  1.5]\n",
      " [1.  1.6]\n",
      " [1.  1.7]\n",
      " [1.  1.8]\n",
      " [1.  1.9]\n",
      " [1.  2. ]\n",
      " [1.  2.1]\n",
      " [1.  2.2]\n",
      " [1.  2.3]\n",
      " [1.  2.4]\n",
      " [1.  2.5]\n",
      " [1.  2.6]\n",
      " [1.  2.7]\n",
      " [1.  2.8]\n",
      " [1.  2.9]]\n"
     ]
    }
   ],
   "source": [
    "print(X_train)"
   ]
  },
  {
   "cell_type": "code",
   "execution_count": 84,
   "id": "85f0bb72-f8c4-448e-9ec2-92163fbb5a1f",
   "metadata": {},
   "outputs": [],
   "source": [
    "y_train = yarray"
   ]
  },
  {
   "cell_type": "code",
   "execution_count": 85,
   "id": "e8ff2e47-a261-4af6-8ccc-2fa576e563db",
   "metadata": {},
   "outputs": [
    {
     "name": "stdout",
     "output_type": "stream",
     "text": [
      "[ 1.    0.71  0.44  0.19 -0.04 -0.25 -0.44 -0.61 -0.76 -0.89 -1.   -1.09\n",
      " -1.16 -1.21 -1.24 -1.25 -1.24 -1.21 -1.16 -1.09 -1.   -0.89 -0.76 -0.61\n",
      " -0.44 -0.25 -0.04  0.19  0.44  0.71]\n"
     ]
    }
   ],
   "source": [
    "print(y_train)"
   ]
  },
  {
   "cell_type": "code",
   "execution_count": 92,
   "id": "e0c7dcf2-008e-4817-819c-1b211b781a7c",
   "metadata": {},
   "outputs": [
    {
     "name": "stdout",
     "output_type": "stream",
     "text": [
      "(30, 2) (30,)\n"
     ]
    }
   ],
   "source": [
    "print(X_train.shape, y_train.shape)"
   ]
  },
  {
   "cell_type": "code",
   "execution_count": 93,
   "id": "246610d4-cdbd-4c92-b783-fe0066d97dd7",
   "metadata": {},
   "outputs": [],
   "source": [
    "def sigmoid(z):\n",
    "    return 1/(1 + np.exp(-z))"
   ]
  },
  {
   "cell_type": "code",
   "execution_count": 176,
   "id": "238623ae-fe2c-44f0-af0e-4be43146a9c8",
   "metadata": {},
   "outputs": [
    {
     "data": {
      "text/html": [
       "<style>#sk-container-id-14 {color: black;background-color: white;}#sk-container-id-14 pre{padding: 0;}#sk-container-id-14 div.sk-toggleable {background-color: white;}#sk-container-id-14 label.sk-toggleable__label {cursor: pointer;display: block;width: 100%;margin-bottom: 0;padding: 0.3em;box-sizing: border-box;text-align: center;}#sk-container-id-14 label.sk-toggleable__label-arrow:before {content: \"▸\";float: left;margin-right: 0.25em;color: #696969;}#sk-container-id-14 label.sk-toggleable__label-arrow:hover:before {color: black;}#sk-container-id-14 div.sk-estimator:hover label.sk-toggleable__label-arrow:before {color: black;}#sk-container-id-14 div.sk-toggleable__content {max-height: 0;max-width: 0;overflow: hidden;text-align: left;background-color: #f0f8ff;}#sk-container-id-14 div.sk-toggleable__content pre {margin: 0.2em;color: black;border-radius: 0.25em;background-color: #f0f8ff;}#sk-container-id-14 input.sk-toggleable__control:checked~div.sk-toggleable__content {max-height: 200px;max-width: 100%;overflow: auto;}#sk-container-id-14 input.sk-toggleable__control:checked~label.sk-toggleable__label-arrow:before {content: \"▾\";}#sk-container-id-14 div.sk-estimator input.sk-toggleable__control:checked~label.sk-toggleable__label {background-color: #d4ebff;}#sk-container-id-14 div.sk-label input.sk-toggleable__control:checked~label.sk-toggleable__label {background-color: #d4ebff;}#sk-container-id-14 input.sk-hidden--visually {border: 0;clip: rect(1px 1px 1px 1px);clip: rect(1px, 1px, 1px, 1px);height: 1px;margin: -1px;overflow: hidden;padding: 0;position: absolute;width: 1px;}#sk-container-id-14 div.sk-estimator {font-family: monospace;background-color: #f0f8ff;border: 1px dotted black;border-radius: 0.25em;box-sizing: border-box;margin-bottom: 0.5em;}#sk-container-id-14 div.sk-estimator:hover {background-color: #d4ebff;}#sk-container-id-14 div.sk-parallel-item::after {content: \"\";width: 100%;border-bottom: 1px solid gray;flex-grow: 1;}#sk-container-id-14 div.sk-label:hover label.sk-toggleable__label {background-color: #d4ebff;}#sk-container-id-14 div.sk-serial::before {content: \"\";position: absolute;border-left: 1px solid gray;box-sizing: border-box;top: 0;bottom: 0;left: 50%;z-index: 0;}#sk-container-id-14 div.sk-serial {display: flex;flex-direction: column;align-items: center;background-color: white;padding-right: 0.2em;padding-left: 0.2em;position: relative;}#sk-container-id-14 div.sk-item {position: relative;z-index: 1;}#sk-container-id-14 div.sk-parallel {display: flex;align-items: stretch;justify-content: center;background-color: white;position: relative;}#sk-container-id-14 div.sk-item::before, #sk-container-id-14 div.sk-parallel-item::before {content: \"\";position: absolute;border-left: 1px solid gray;box-sizing: border-box;top: 0;bottom: 0;left: 50%;z-index: -1;}#sk-container-id-14 div.sk-parallel-item {display: flex;flex-direction: column;z-index: 1;position: relative;background-color: white;}#sk-container-id-14 div.sk-parallel-item:first-child::after {align-self: flex-end;width: 50%;}#sk-container-id-14 div.sk-parallel-item:last-child::after {align-self: flex-start;width: 50%;}#sk-container-id-14 div.sk-parallel-item:only-child::after {width: 0;}#sk-container-id-14 div.sk-dashed-wrapped {border: 1px dashed gray;margin: 0 0.4em 0.5em 0.4em;box-sizing: border-box;padding-bottom: 0.4em;background-color: white;}#sk-container-id-14 div.sk-label label {font-family: monospace;font-weight: bold;display: inline-block;line-height: 1.2em;}#sk-container-id-14 div.sk-label-container {text-align: center;}#sk-container-id-14 div.sk-container {/* jupyter's `normalize.less` sets `[hidden] { display: none; }` but bootstrap.min.css set `[hidden] { display: none !important; }` so we also need the `!important` here to be able to override the default hidden behavior on the sphinx rendered scikit-learn.org. See: https://github.com/scikit-learn/scikit-learn/issues/21755 */display: inline-block !important;position: relative;}#sk-container-id-14 div.sk-text-repr-fallback {display: none;}</style><div id=\"sk-container-id-14\" class=\"sk-top-container\"><div class=\"sk-text-repr-fallback\"><pre>MLPRegressor(activation=&#x27;logistic&#x27;, alpha=1e-05, hidden_layer_sizes=2,\n",
       "             random_state=1, solver=&#x27;lbfgs&#x27;)</pre><b>In a Jupyter environment, please rerun this cell to show the HTML representation or trust the notebook. <br />On GitHub, the HTML representation is unable to render, please try loading this page with nbviewer.org.</b></div><div class=\"sk-container\" hidden><div class=\"sk-item\"><div class=\"sk-estimator sk-toggleable\"><input class=\"sk-toggleable__control sk-hidden--visually\" id=\"sk-estimator-id-14\" type=\"checkbox\" checked><label for=\"sk-estimator-id-14\" class=\"sk-toggleable__label sk-toggleable__label-arrow\">MLPRegressor</label><div class=\"sk-toggleable__content\"><pre>MLPRegressor(activation=&#x27;logistic&#x27;, alpha=1e-05, hidden_layer_sizes=2,\n",
       "             random_state=1, solver=&#x27;lbfgs&#x27;)</pre></div></div></div></div></div>"
      ],
      "text/plain": [
       "MLPRegressor(activation='logistic', alpha=1e-05, hidden_layer_sizes=2,\n",
       "             random_state=1, solver='lbfgs')"
      ]
     },
     "execution_count": 176,
     "metadata": {},
     "output_type": "execute_result"
    }
   ],
   "source": [
    "#input layer = one input (x1) plus bias x0\n",
    "#hidden layer = 2 nodes, x1 and x2, plus bias x0\n",
    "\n",
    "from sklearn.neural_network import MLPClassifier, MLPRegressor\n",
    "clf = MLPRegressor(solver='lbfgs', alpha=1e-5,\n",
    "                 hidden_layer_sizes=(2), random_state=1, activation='logistic')\n",
    "clf.fit(X_train[:, 1].reshape(-1, 1), y_train)\n",
    "#clf.fit(X_train, y_train)"
   ]
  },
  {
   "cell_type": "code",
   "execution_count": 177,
   "id": "b6f49206-ac85-46c1-aaaa-818786bc62aa",
   "metadata": {},
   "outputs": [
    {
     "name": "stdout",
     "output_type": "stream",
     "text": [
      "[array([[1.61468679, 2.2893793 ]]), array([[10.49068236],\n",
      "       [-4.41164907]])]\n",
      "[array([-5.83749417, -0.45701456]), array([2.62995857])]\n"
     ]
    }
   ],
   "source": [
    "print(clf.coefs_)\n",
    "print(clf.intercepts_)"
   ]
  },
  {
   "cell_type": "code",
   "execution_count": 178,
   "id": "a3a373fe-cf5e-45f4-808d-0c23884ecb46",
   "metadata": {},
   "outputs": [
    {
     "data": {
      "text/plain": [
       "0.00021223464802675674"
      ]
     },
     "execution_count": 178,
     "metadata": {},
     "output_type": "execute_result"
    }
   ],
   "source": [
    "clf.loss_"
   ]
  },
  {
   "cell_type": "code",
   "execution_count": 179,
   "id": "14bbb987-51f5-42fb-a9c9-c4f66c2a97db",
   "metadata": {},
   "outputs": [
    {
     "data": {
      "text/plain": [
       "array([ 0.95009077,  0.71042813,  0.46526804,  0.22121893, -0.0150863 ])"
      ]
     },
     "execution_count": 179,
     "metadata": {},
     "output_type": "execute_result"
    }
   ],
   "source": [
    "clf.predict(X_train[:, 1][0:5].reshape(-1, 1))  # predict first 5 values in X"
   ]
  },
  {
   "cell_type": "code",
   "execution_count": 157,
   "id": "d1608b5d-a074-40af-b927-ce92a425f98f",
   "metadata": {},
   "outputs": [
    {
     "data": {
      "text/plain": [
       "array([ 1.  ,  0.71,  0.44,  0.19, -0.04])"
      ]
     },
     "execution_count": 157,
     "metadata": {},
     "output_type": "execute_result"
    }
   ],
   "source": [
    "y_train[0:5]"
   ]
  },
  {
   "cell_type": "code",
   "execution_count": 158,
   "id": "41453565-e8ff-4c9c-9bf3-63dd43719061",
   "metadata": {},
   "outputs": [],
   "source": [
    "W1 = np.array([[-5.83749417, 1.61468679 ],[-0.45701456, 2.2893793 ]])"
   ]
  },
  {
   "cell_type": "code",
   "execution_count": 159,
   "id": "245c7f73-6835-471f-a5be-70aa78cd365b",
   "metadata": {},
   "outputs": [
    {
     "name": "stdout",
     "output_type": "stream",
     "text": [
      "[1. 0.]\n"
     ]
    },
    {
     "data": {
      "text/plain": [
       "array([-5.83749417, -0.45701456])"
      ]
     },
     "execution_count": 159,
     "metadata": {},
     "output_type": "execute_result"
    }
   ],
   "source": [
    "print(X_train[0])\n",
    "W1 @ X_train[0]"
   ]
  },
  {
   "cell_type": "code",
   "execution_count": 169,
   "id": "fba8616e-4643-4e92-a1a2-dffec282e945",
   "metadata": {},
   "outputs": [
    {
     "name": "stdout",
     "output_type": "stream",
     "text": [
      "[1.  0.5]\n",
      "[0.00649536 0.66544954]\n",
      "[1.         0.00649536 0.66544954]\n"
     ]
    }
   ],
   "source": [
    "a0 = X_train[5]\n",
    "print(a0)\n",
    "a1 = sigmoid(W1 @ a0)\n",
    "print(a1)\n",
    "a1 = np.insert(a1, 0, 1)\n",
    "print(a1)"
   ]
  },
  {
   "cell_type": "code",
   "execution_count": 170,
   "id": "7308d93f-6183-44f0-b09a-ba9a45e1c9f3",
   "metadata": {},
   "outputs": [],
   "source": [
    "W2 = np.array([2.62995857, 10.49068236, -4.41164907])"
   ]
  },
  {
   "cell_type": "code",
   "execution_count": 171,
   "id": "70280296-8b6b-4544-9c50-e00c1c378991",
   "metadata": {},
   "outputs": [
    {
     "name": "stdout",
     "output_type": "stream",
     "text": [
      "0.4408703537701813\n"
     ]
    }
   ],
   "source": [
    "a2 = sigmoid(W2 @ a1)\n",
    "print(a2)"
   ]
  },
  {
   "cell_type": "code",
   "execution_count": null,
   "id": "14866415-2ec4-4c91-950e-a3fa27dc7e5d",
   "metadata": {},
   "outputs": [],
   "source": []
  }
 ],
 "metadata": {
  "kernelspec": {
   "display_name": "Python 3 (ipykernel)",
   "language": "python",
   "name": "python3"
  },
  "language_info": {
   "codemirror_mode": {
    "name": "ipython",
    "version": 3
   },
   "file_extension": ".py",
   "mimetype": "text/x-python",
   "name": "python",
   "nbconvert_exporter": "python",
   "pygments_lexer": "ipython3",
   "version": "3.8.15"
  }
 },
 "nbformat": 4,
 "nbformat_minor": 5
}
