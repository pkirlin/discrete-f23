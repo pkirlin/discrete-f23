{
 "cells": [
  {
   "cell_type": "markdown",
   "id": "a3105af4-db8f-4066-a4a6-5a599932674c",
   "metadata": {},
   "source": [
    "# Linear Regression Lab"
   ]
  },
  {
   "cell_type": "markdown",
   "id": "99dfbbc2-cae2-46a4-9527-02d26f9c5357",
   "metadata": {},
   "source": [
    "## Load Data"
   ]
  },
  {
   "cell_type": "code",
   "execution_count": null,
   "id": "13f397ae-6771-4a67-a345-b8b72dc083f4",
   "metadata": {},
   "outputs": [],
   "source": [
    "import numpy as np\n",
    "import matplotlib.pyplot as plt\n",
    "import pandas as pd\n",
    "\n",
    "df = pd.read_csv(\"housing.csv\")\n",
    "#df['price'] /= 1000 \n",
    "#df['sqft'] /= 1000\n",
    "df"
   ]
  },
  {
   "cell_type": "code",
   "execution_count": null,
   "id": "2a2ecbcb-88fd-43d8-a148-4b92369a7782",
   "metadata": {},
   "outputs": [],
   "source": [
    "# Set up our training data\n",
    "x_train = df['sqft'].to_numpy()\n",
    "y_train = df['price'].to_numpy()\n",
    "\n",
    "# To use only a subset of the training data, use a slice of the arrays above.\n",
    "\n",
    "print(\"Training data for x: \", x_train)\n",
    "print(\"Training data for y: \", y_train)"
   ]
  },
  {
   "cell_type": "code",
   "execution_count": null,
   "id": "89ca682e-05e9-473d-8007-167e833de517",
   "metadata": {},
   "outputs": [],
   "source": [
    "# Make a nice plot\n",
    "\n",
    "plt.scatter(x_train, y_train)\n",
    "plt.show()"
   ]
  },
  {
   "cell_type": "code",
   "execution_count": null,
   "id": "2c37d659-6c7e-4e75-a4d5-1b6cbe7be0e3",
   "metadata": {},
   "outputs": [],
   "source": [
    "# Make a nice plot with a line based on the equation y = wx + b\n",
    "\n",
    "plt.scatter(x_train, y_train)\n",
    "\n",
    "# Set up dummy values for w and b\n",
    "w = 0\n",
    "b = 0\n",
    " \n",
    "# Generate points on our line y = wx + b to graph\n",
    "line_x_points = np.linspace(min(x_train), max(x_train), 100)\n",
    "line_y_points = [w * x + b for x in line_x_points]\n",
    "\n",
    "plt.plot(line_x_points, line_y_points, c='red')\n",
    "plt.show()"
   ]
  },
  {
   "cell_type": "code",
   "execution_count": null,
   "id": "c2b8d43e-6b7d-4295-be38-b3d578a38e89",
   "metadata": {},
   "outputs": [],
   "source": [
    "# Let's turn it into a function:\n",
    "\n",
    "def make_plot(x_train, y_train, w, b):\n",
    "    plt.scatter(x_train, y_train)\n",
    "\n",
    "    line_x_points = np.linspace(min(x_train), max(x_train), 100)\n",
    "    line_y_points = [w * x + b for x in line_x_points]\n",
    "    \n",
    "    plt.plot(line_x_points, line_y_points, c='red')\n",
    "    plt.show()\n",
    "    \n",
    "make_plot(x_train, y_train, 0, 0)"
   ]
  },
  {
   "cell_type": "code",
   "execution_count": null,
   "id": "09c7c365-da60-4fcc-8e07-a3997c4c5d98",
   "metadata": {},
   "outputs": [],
   "source": [
    "# Let's define a function to predict y = f(x) = wx + b\n",
    "\n",
    "def make_prediction(x, w, b):\n",
    "    return w * x + b"
   ]
  },
  {
   "cell_type": "code",
   "execution_count": null,
   "id": "1ccf1ce4-5478-4442-b2c3-896b375f05b8",
   "metadata": {},
   "outputs": [],
   "source": [
    "# Let's define a function to compute the cost J(w, b) on a set of data:\n",
    "\n",
    "def compute_cost(x_data, y_data, w, b):\n",
    "    \"\"\"\n",
    "    x_data and y_data are lists\n",
    "    w and b are scalars\n",
    "    return: cost J(w, b) on all training data\n",
    "    \"\"\"\n",
    "    m = len(x_data) # number of data points\n",
    "    cost = 0\n",
    "    \n",
    "    for i in range(m):\n",
    "        y_hat = make_prediction(x_data[i], w, b)\n",
    "        y = y_data[i]\n",
    "        cost += (y_hat - y)**2\n",
    "    total_cost = (1 / (2 * m)) * cost\n",
    "\n",
    "    return total_cost"
   ]
  },
  {
   "cell_type": "code",
   "execution_count": null,
   "id": "7aa68c09-bcb3-4569-b14c-e411845b76ec",
   "metadata": {},
   "outputs": [],
   "source": [
    "# Output total cost for our data set:\n",
    "\n",
    "w = .3\n",
    "b = 500\n",
    "\n",
    "print(compute_cost(x_train, y_train, w, b))"
   ]
  },
  {
   "cell_type": "code",
   "execution_count": null,
   "id": "76ebe600-a789-4c2b-ab1e-300784f5a8ca",
   "metadata": {},
   "outputs": [],
   "source": [
    "# Let's write a function to compute the gradient:\n",
    "\n",
    "def compute_gradient(x_data, y_data, w, b):\n",
    "    \"\"\"\n",
    "    x_data and y_data are lists\n",
    "    w and b are scalars\n",
    "    return: gradient of w, gradient of b\n",
    "    \"\"\"\n",
    "    m = len(x_data) # number of data points\n",
    "    gradient_w = 0\n",
    "    gradient_b = 0\n",
    "    \n",
    "    for i in range(m):\n",
    "        y_hat = make_prediction(x_data[i], w, b)\n",
    "        y = y_data[i]\n",
    "        \n",
    "        gradient_w += (y_hat - y) * x_data[i]\n",
    "        gradient_b += (y_hat - y)\n",
    "        \n",
    "    gradient_w /= m\n",
    "    gradient_b /= m\n",
    "\n",
    "    return gradient_w, gradient_b"
   ]
  },
  {
   "cell_type": "code",
   "execution_count": null,
   "id": "63126780-7331-489b-905a-737efac3dc8e",
   "metadata": {},
   "outputs": [],
   "source": [
    "# Let's write code to run gradient descent:\n",
    "\n",
    "w = 0\n",
    "b = 0\n",
    "ALPHA = .0000001\n",
    "\n",
    "J_sequence = []\n",
    "\n",
    "print(\"x train is\", x_train)\n",
    "print(\"y train is\", y_train)\n",
    "\n",
    "for ctr in range(0, 100):\n",
    "    print(ctr)\n",
    "    print(w, b)\n",
    "    print(\"Cost is\", compute_cost(x_train, y_train, w, b))\n",
    "    (gradient_w, gradient_b) = compute_gradient(x_train, y_train, w, b)\n",
    "    print(\"Gradients\", gradient_w, gradient_b)\n",
    "    w -= ALPHA * gradient_w\n",
    "    b -= ALPHA * gradient_b\n",
    "    J_sequence.append(compute_cost(x_train, y_train, w, b))\n",
    "    \n",
    "print(\"Final w and b:\", w, b)"
   ]
  },
  {
   "cell_type": "code",
   "execution_count": null,
   "id": "816573d7-bd23-400b-b500-8e9bf4304cbd",
   "metadata": {},
   "outputs": [],
   "source": [
    "# Let's plot the cost as a function of number of iterations of the\n",
    "# gradient descent algorithm.\n",
    "\n",
    "plt.scatter(range(0, len(J_sequence)), J_sequence)\n",
    "plt.show()"
   ]
  },
  {
   "cell_type": "code",
   "execution_count": null,
   "id": "cbcd0e8b-e695-403a-a6e0-eb69de5619c7",
   "metadata": {},
   "outputs": [],
   "source": [
    "# Produce final plot of our data and our line:\n",
    "\n",
    "make_plot(x_train, y_train, w, b)"
   ]
  },
  {
   "cell_type": "code",
   "execution_count": null,
   "id": "05cd81e5-295f-4758-834f-57cd80c75c84",
   "metadata": {},
   "outputs": [],
   "source": [
    "# Make a new prediction:\n",
    "\n",
    "sqft = 2000\n",
    "prediction = make_prediction(sqft, w, b)\n",
    "\n",
    "print(\"A house with\", sqft, \"square feet would sell for around\", prediction, \"dollars.\")"
   ]
  },
  {
   "cell_type": "code",
   "execution_count": null,
   "id": "0d934fb9-bd3e-4ce5-9be5-b7d469a83850",
   "metadata": {},
   "outputs": [],
   "source": []
  }
 ],
 "metadata": {
  "kernelspec": {
   "display_name": "Python 3 (ipykernel)",
   "language": "python",
   "name": "python3"
  },
  "language_info": {
   "codemirror_mode": {
    "name": "ipython",
    "version": 3
   },
   "file_extension": ".py",
   "mimetype": "text/x-python",
   "name": "python",
   "nbconvert_exporter": "python",
   "pygments_lexer": "ipython3",
   "version": "3.8.15"
  }
 },
 "nbformat": 4,
 "nbformat_minor": 5
}
