{
 "cells": [
  {
   "cell_type": "markdown",
   "id": "52b6191f-27cc-4762-bc63-a17324ae849f",
   "metadata": {},
   "source": [
    "# Welcome to Machine Learning!\n",
    "\n",
    "This is a Jupyter notebook."
   ]
  },
  {
   "cell_type": "code",
   "execution_count": 1,
   "id": "0a05a21d-32e4-4bec-a487-a366c1ca6a33",
   "metadata": {},
   "outputs": [
    {
     "name": "stdout",
     "output_type": "stream",
     "text": [
      "Hello world!\n"
     ]
    }
   ],
   "source": [
    "# Here is some Python code.\n",
    "# Press shift-enter to run it.\n",
    "\n",
    "print(\"Hello world!\")\n",
    "print()"
   ]
  },
  {
   "cell_type": "code",
   "execution_count": null,
   "id": "641d3ff6-81ed-4dfc-b2a6-7a35c35812ad",
   "metadata": {},
   "outputs": [],
   "source": []
  }
 ],
 "metadata": {
  "kernelspec": {
   "display_name": "Python 3 (ipykernel)",
   "language": "python",
   "name": "python3"
  },
  "language_info": {
   "codemirror_mode": {
    "name": "ipython",
    "version": 3
   },
   "file_extension": ".py",
   "mimetype": "text/x-python",
   "name": "python",
   "nbconvert_exporter": "python",
   "pygments_lexer": "ipython3",
   "version": "3.8.15"
  }
 },
 "nbformat": 4,
 "nbformat_minor": 5
}
