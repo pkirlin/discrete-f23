{
 "cells": [
  {
   "cell_type": "markdown",
   "id": "b44bfb74-0f7a-47b0-9021-fefa166ab407",
   "metadata": {},
   "source": [
    "# Lab to introduce NumPy and Pandas"
   ]
  },
  {
   "cell_type": "code",
   "execution_count": null,
   "id": "d05a0b79-32ab-4ecc-9a2e-02712d2eee76",
   "metadata": {},
   "outputs": [],
   "source": [
    "# First we always import the libraries\n",
    "\n",
    "import numpy as np\n",
    "import pandas as pd\n",
    "import matplotlib.pyplot as plt"
   ]
  },
  {
   "cell_type": "code",
   "execution_count": null,
   "id": "bc53e28d-a4c9-4364-96da-737722420f6d",
   "metadata": {},
   "outputs": [],
   "source": [
    "# Pandas is a nice library to let you read CSV files.\n",
    "# The main pandas datatype is the \"data frame.\"  \n",
    "# That's why the usual panda variable name is \"df.\"\n",
    "\n",
    "df = pd.read_csv(\"housing.csv\")\n",
    "df  # The last expression in a cell is auto-evaluated and printed."
   ]
  },
  {
   "cell_type": "code",
   "execution_count": null,
   "id": "0d4a3085-dcf8-4a50-93d2-331b5bde4bc2",
   "metadata": {},
   "outputs": [],
   "source": [
    "# .head() only shows the first few rows\n",
    "\n",
    "df.head()"
   ]
  },
  {
   "cell_type": "code",
   "execution_count": null,
   "id": "c50ed7d6-0bf4-4055-8f04-a78a284070c3",
   "metadata": {},
   "outputs": [],
   "source": [
    "# Select one column with square brackets and a string with the name of the column:\n",
    "\n",
    "df['sqft']"
   ]
  },
  {
   "cell_type": "code",
   "execution_count": null,
   "id": "0e577669-c168-43ae-9357-5de576f1b3d9",
   "metadata": {},
   "outputs": [],
   "source": [
    "# Select multiple columns with square brackets and a list with the names of the column:\n",
    "\n",
    "df[['sqft', 'price']]"
   ]
  },
  {
   "cell_type": "code",
   "execution_count": null,
   "id": "5e88da38-4c54-4fb9-bef4-87bce2a18419",
   "metadata": {},
   "outputs": [],
   "source": [
    "# Pandas cannot select rows easily (but you rarely need to do so).\n",
    "# To do it, use .iloc:\n",
    "\n",
    "print(\"Row 0:\", df.iloc[0])\n",
    "\n",
    "print(\"Row 20:\", df.iloc[20])\n",
    "\n",
    "# Select row 20, column 0 (square feet)\n",
    "print(df.iloc[20][0])"
   ]
  },
  {
   "cell_type": "code",
   "execution_count": null,
   "id": "ccc336c7-63b3-4741-8a6c-d7a12f528ba0",
   "metadata": {},
   "outputs": [],
   "source": [
    "# You can calculate various aggregate functions (mean, median, max, standard deviation, etc) of\n",
    "# a single column:\n",
    "\n",
    "print(\"Mean:\", df['sqft'].mean())\n",
    "print(\"Median:\", df['sqft'].median())\n",
    "print(\"Max:\", df['sqft'].max())\n",
    "print(\"Standard deviation:\", df['sqft'].std())\n",
    "print()\n",
    "\n",
    "# You can calculate these for multiple columns at once:\n",
    "\n",
    "print(\"Mean of two columns:\\n\", df[['sqft', 'price']].mean())\n",
    "print()\n",
    "\n",
    "# What this is often useful for is applying a single transformation across the rows or\n",
    "# columns of a dataframe.  \n",
    "\n",
    "# For instance:\n",
    "\n",
    "# Create a data frame with the square feet column minus the mean of the square feet column\n",
    "# Notice how we are subtracting a *single number* (the mean) from an entire column at once.\n",
    "print(\"Using the mean of a column in a calculation on that column:\")\n",
    "df2 = df['sqft'] - df['sqft'].mean()\n",
    "print(df2.head())   # The head is just to save space\n",
    "print()\n",
    "\n",
    "# This can be done with multiple columns at once!\n",
    "# Create a data frame with the square feet and price columns minus their respective means.\n",
    "# Notice how we are subtracting a pair of numbers (the means) from an data frame of two columns.\n",
    "print(\"Using the means of 2 columns in a calculation:\")\n",
    "df3 = df[['sqft', 'price']] - df[['sqft', 'price']].mean()\n",
    "print(df3.head())   # The head is just to save space"
   ]
  },
  {
   "cell_type": "code",
   "execution_count": null,
   "id": "c408126b-53d3-4108-980a-76ab0cbf824b",
   "metadata": {},
   "outputs": [],
   "source": [
    "# Once you have your data selected in a Pandas dataframe, I find it easier to move to Numpy:\n",
    "\n",
    "# Use the .to_numpy() method to turn your dataframe into a NumPy \"ndarray.\"  (n-dimensional array)\n",
    "\n",
    "matrix1 = df.to_numpy()\n",
    "matrix1  "
   ]
  },
  {
   "cell_type": "code",
   "execution_count": null,
   "id": "e6ffbec6-8a3b-4d8d-a973-caf31844b87c",
   "metadata": {},
   "outputs": [],
   "source": [
    "matrix2 = df[['sqft', 'price']].head().to_numpy()\n",
    "matrix2"
   ]
  },
  {
   "cell_type": "code",
   "execution_count": null,
   "id": "30a0cf21-7885-4306-95e5-f6acb09b9d8f",
   "metadata": {},
   "outputs": [],
   "source": [
    "vector1 = df[['sqft']]\n",
    "vector2 = df['sqft']"
   ]
  },
  {
   "cell_type": "code",
   "execution_count": null,
   "id": "a33f5230-2ed3-4adb-9381-876e73cd5c7f",
   "metadata": {},
   "outputs": [],
   "source": [
    "# The basic NumPy data type is the \"ndarray\" (n-dimensional array).  This can be used\n",
    "# to represente vectors (1-dim), matrices (2-dim), or structures with even more dimensions.\n",
    "\n",
    "# You can always get the dimensions and size/length of each dimension by using .shape\n",
    "# NOTICE THIS IS NOT A METHOD: no parentheses\n",
    "\n",
    "print(\"matrix1 shape: \", matrix1.shape)\n",
    "print(\"matrix2 shape: \", matrix2.shape)\n",
    "print(\"vector1 shape: \", vector1.shape)\n",
    "print(\"vector2 shape: \", vector2.shape)"
   ]
  },
  {
   "cell_type": "code",
   "execution_count": null,
   "id": "ab17c5c2-304f-48a6-a0a4-ceffdd99e230",
   "metadata": {},
   "outputs": [],
   "source": [
    "# Be careful of how you represent vectors in NumPy!  They can be presented as 1-dimensional ndarrays,\n",
    "# or 2-dimensional ndarrays with one dimension having length 1.  Compare vector1 and vector2.\n",
    "\n",
    "# Usually NumPy can operate correctly with either type and will figure out what you mean, just\n",
    "# watch out for errors with dimensions.\n",
    "\n",
    "# I recommend using 1-dimensional ndarrays for vectors (like vector1, not vector2).\n"
   ]
  },
  {
   "cell_type": "code",
   "execution_count": null,
   "id": "f3e99b70-190b-49b4-9fc2-024437cf6527",
   "metadata": {},
   "outputs": [],
   "source": [
    "# Example illustrating the dot-product (np.dot() function):\n",
    "\n",
    "v1 = np.array([1, 2, 3])       # 1-d array (vector)\n",
    "v2 = np.array([[1, 2, 3]])     # 2-d array, 1 row by 3 columns (row vector), but can be used usually like a 1-d array\n",
    "v3 = np.array([[1], [2], [3]]) # 2-d array, 3 rows by 1 column (column vector), also will usually work\n",
    "\n",
    "# v1 is the easiest.  v2 and v3 will mostly work, except when they don't :)\n",
    "\n",
    "print(\"v1\", v1)\n",
    "print(\"v2\", v2)\n",
    "print(\"v3\\n\", v3)\n",
    "\n",
    "# np.dot() is the dot product function:\n",
    "\n",
    "#print(np.dot(v1, v2))  # doesn't work\n",
    "#print(np.dot(v1, v3))   # works ok\n",
    "#print(np.dot(v2, v3))   # also works ok\n",
    "#print(np.dot(v3, v2))   # \"works\", but probably doesn't do what you meant\n",
    "print(np.dot(v1, v1))   # works fine, probably what you meant"
   ]
  },
  {
   "cell_type": "code",
   "execution_count": null,
   "id": "c781e120-364e-425c-97d0-7fef8e1c9aed",
   "metadata": {},
   "outputs": [],
   "source": [
    "# Getting rows and columns of a matrix:\n",
    "# Use .shape[0] for rows and .shape[1] for columns\n",
    "\n",
    "m1 = np.array([[1, 2, 3], [4, 5, 6]])\n",
    "\n",
    "print(m1.shape[0])\n",
    "print(m1.shape[1])\n",
    "print(m1.shape)"
   ]
  },
  {
   "cell_type": "code",
   "execution_count": null,
   "id": "be61cd8f-2437-42aa-8759-2689df79e46e",
   "metadata": {},
   "outputs": [],
   "source": [
    "# Creating new arrays: \n",
    "\n",
    "# Use np.array() like above to create 1-d or 2-d arrays from 1 or 2-d lists.\n",
    "\n",
    "# Use np.zeros() to make a vector/matrix of all zeroes.\n",
    "\n",
    "print(np.zeros(3))       # [0. 0. 0.]\n",
    "print(np.zeros((3, 4)))  # 3 rows, 4 columns\n",
    "#print(np.zeros(3, 40))   # nope\n",
    "\n",
    "# Use np.ones() to make a vector/matrix of all ones.\n",
    "\n",
    "print(np.ones(3))       # [0. 0. 0.]\n",
    "print(np.ones((3, 4)))  # 3 rows, 4 columns\n",
    "#print(np.ones(3, 40))   # nope\n"
   ]
  },
  {
   "cell_type": "code",
   "execution_count": null,
   "id": "c202ed14-9a35-426c-9e61-31ce0ab48ecb",
   "metadata": {},
   "outputs": [],
   "source": [
    "# Matrix operations:\n",
    "\n",
    "# Addition and subtraction (only on matrices of identical dimensions, including vectors)\n",
    "\n",
    "m1 = np.array([[1, 2, 3], [4, 5, 6]])\n",
    "m2 = np.ones((2, 3))\n",
    "print(m1 + m2)\n",
    "print()\n",
    "print(m1 - m2)\n",
    "print()\n",
    "\n",
    "v1 = np.array([1, 2, 3])\n",
    "v2 = np.array([4, 5, 6])\n",
    "print(v1 + v2)\n",
    "print(v1 - v2)\n",
    "print()\n",
    "\n",
    "# Can add or subtract a scalar to/from a vector or matrix; will be applied to all elements:\n",
    "print(m1 + 1)\n",
    "print()\n",
    "print(v1 + 1)"
   ]
  },
  {
   "cell_type": "code",
   "execution_count": null,
   "id": "e28f2af8-d7f1-4622-a52c-2f87039a41b4",
   "metadata": {},
   "outputs": [],
   "source": [
    "# Matrix multiplication\n",
    "\n",
    "# Multiplying by a scalar multiplies all entries by that number:\n",
    "\n",
    "print(2 * m1)\n",
    "print()\n",
    "\n",
    "# Can multiply a matrix by a matrix only if inner dimensions match:\n",
    "# USE THE \"AT\" SIGN: @\n",
    "\n",
    "#print(m1 @ m2)  # doesn't work\n",
    "\n",
    "m3 = np.array([[7, 8], [9, 10]])\n",
    "\n",
    "#print(m1 @ m3)  # doesn't work\n",
    "\n",
    "print(m3 @ m1)  # fine\n",
    "\n"
   ]
  },
  {
   "cell_type": "code",
   "execution_count": null,
   "id": "b8abced1-667a-4789-a44b-b5bdaa9a17da",
   "metadata": {},
   "outputs": [],
   "source": [
    "# Matrix multiplication by vector\n",
    "\n",
    "# Different when on the left versus on right:\n",
    "\n",
    "print(m1)\n",
    "print()\n",
    "print(v1)\n",
    "print()\n",
    "print(m1 @ v1)  # treats v1 as a column vector, so multiplies (2x3) by (3x1)\n",
    "print()\n",
    "#print(v1 @ m1)  # treats v1 as a row vector, but won't work: v1 has wrong dimensions: trying to multiply (3x1) by (2x3)\n",
    "v2 = np.array([2, 4])\n",
    "print(v2 @ m1)   # fine\n"
   ]
  },
  {
   "cell_type": "code",
   "execution_count": null,
   "id": "3ff9a17d-c221-4b23-8db5-e4f4cf527f6b",
   "metadata": {},
   "outputs": [],
   "source": [
    "# Matrix transposition: .T \n",
    "# Swaps rows for columns\n",
    "\n",
    "print(m1)\n",
    "print()\n",
    "print(m1.T)\n",
    "print()\n",
    "print(m1.T @ m1)"
   ]
  },
  {
   "cell_type": "code",
   "execution_count": null,
   "id": "245e212f-ce3e-47d6-b9ab-64ad05432398",
   "metadata": {},
   "outputs": [],
   "source": [
    "# Matrix inverse: Use np.linalg.inv().  Matrix must be square.\n",
    "\n",
    "m1 = np.array([[1, 2, 3], [6, 5, 4], [7, 9, 8]])\n",
    "print(m1)\n",
    "print()\n",
    "inverse_m1 = np.linalg.inv(m1)\n",
    "print(inverse_m1)\n",
    "\n",
    "# the inverse of a matrix A is a matrix A^-1 such that A @ A^-1 or A^1 @ A is the identity matrix.\n",
    "\n",
    "print(m1 @ inverse_m1)"
   ]
  },
  {
   "cell_type": "code",
   "execution_count": null,
   "id": "edfb8c34-ef35-4db6-9bbc-622dec242e4c",
   "metadata": {},
   "outputs": [],
   "source": [
    "# Selecting rows and columns from a matrix:\n",
    "\n",
    "m1 = np.array([[1, 2, 3], [4, 5, 6]])\n",
    "\n",
    "print(m1[0]) # row 0\n",
    "print()\n",
    "print(m1[0, :]) # another way to get a row\n",
    "print()\n",
    "print(m1[:, 0]) # column 0 (as 1-d vector)\n",
    "print()\n",
    "print(m1[0][0]) # get a single element"
   ]
  },
  {
   "cell_type": "code",
   "execution_count": null,
   "id": "c15e5e60-6bdd-4056-bfe8-69caf364e0ef",
   "metadata": {},
   "outputs": [],
   "source": [
    "# Adding rows and columns to a matrix (makes a new matrix):\n",
    "\n",
    "m1 = np.array([[1, 2, 3], [4, 5, 6]])\n",
    "\n",
    "# Adding one row\n",
    "\n",
    "v1 = np.zeros(3)  # 1-d array of zeros works OK\n",
    "\n",
    "print(\"New row on bottom\")\n",
    "print(np.vstack((m1, v1)))\n",
    "print()\n",
    "\n",
    "print(\"New row on top\")\n",
    "print(np.vstack((v1, m1)))\n",
    "print()\n",
    "\n",
    "# Adding one column\n",
    "\n",
    "v2 = np.zeros((2,1))  # 2-d array of zeros (required for column vector)\n",
    "\n",
    "print(\"New column on right\")\n",
    "print(np.hstack((m1, v2)))\n",
    "print()\n",
    "\n",
    "print(\"New column on left\")\n",
    "print(np.hstack((v2, m2)))\n",
    "print()\n",
    "\n",
    "# Can also horizontally or vertically stack a matrix with a matrix as long as dimensions match\n",
    "# along the correct axis."
   ]
  },
  {
   "cell_type": "code",
   "execution_count": null,
   "id": "d7398c0e-e6fb-4687-9dba-82f522cd58ac",
   "metadata": {},
   "outputs": [],
   "source": []
  }
 ],
 "metadata": {
  "kernelspec": {
   "display_name": "Python 3 (ipykernel)",
   "language": "python",
   "name": "python3"
  },
  "language_info": {
   "codemirror_mode": {
    "name": "ipython",
    "version": 3
   },
   "file_extension": ".py",
   "mimetype": "text/x-python",
   "name": "python",
   "nbconvert_exporter": "python",
   "pygments_lexer": "ipython3",
   "version": "3.8.15"
  }
 },
 "nbformat": 4,
 "nbformat_minor": 5
}
