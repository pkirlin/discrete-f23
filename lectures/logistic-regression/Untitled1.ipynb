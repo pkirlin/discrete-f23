{
 "cells": [
  {
   "cell_type": "code",
   "execution_count": 2,
   "id": "1d810b97-89c6-4a1f-b41a-d96089952224",
   "metadata": {},
   "outputs": [],
   "source": [
    "import numpy as np"
   ]
  },
  {
   "cell_type": "code",
   "execution_count": 4,
   "id": "0d7365e2-2067-43cc-ad07-3d1d1275c0fa",
   "metadata": {},
   "outputs": [
    {
     "name": "stdout",
     "output_type": "stream",
     "text": [
      "[0.1 0.2 0.3 0.4]\n"
     ]
    }
   ],
   "source": [
    "x = np.array([1, .02, .03, .04])\n",
    "w1_1 = np.array([.1, .2, .3, .4])\n",
    "w2_1 = np.array([.5, .6, .7, .8])\n",
    "w3_1 = np.array([.9, 1.0, 1.1, 1.2])\n",
    "w1_2 = np.array([.1, .2, .3])\n",
    "print(w1_1)"
   ]
  },
  {
   "cell_type": "code",
   "execution_count": 5,
   "id": "42467f60-49af-48b0-9f3c-79c58ef73e7f",
   "metadata": {},
   "outputs": [],
   "source": [
    "def sigmoid(z):\n",
    "    return 1/(1 + np.exp(-z))"
   ]
  },
  {
   "cell_type": "code",
   "execution_count": 8,
   "id": "bf1142cb-185d-452e-8909-75d74b412c72",
   "metadata": {},
   "outputs": [
    {
     "data": {
      "text/plain": [
       "array([0.73105858, 0.88079708])"
      ]
     },
     "execution_count": 8,
     "metadata": {},
     "output_type": "execute_result"
    }
   ],
   "source": [
    "sigmoid(np.array([1, 2]))"
   ]
  },
  {
   "cell_type": "code",
   "execution_count": 11,
   "id": "d4740b73-e035-442a-bbec-7dc3616042d2",
   "metadata": {},
   "outputs": [],
   "source": [
    "a0 = x\n",
    "a1_1 = sigmoid(np.dot(w1_1, a0))\n",
    "a2_1 = sigmoid(np.dot(w2_1, a0))\n",
    "a3_1 = sigmoid(np.dot(w3_1, a0))"
   ]
  },
  {
   "cell_type": "code",
   "execution_count": 12,
   "id": "a52697ff-3c3e-493d-a11a-0c137a3fff65",
   "metadata": {},
   "outputs": [
    {
     "name": "stdout",
     "output_type": "stream",
     "text": [
      "0.5322053516104134 0.637608652621925 0.7312551451284902\n"
     ]
    }
   ],
   "source": [
    "print(a1_1, a2_1, a3_1)"
   ]
  },
  {
   "cell_type": "code",
   "execution_count": 13,
   "id": "4b737c84-b0a1-4ce9-b5ce-278017689c8a",
   "metadata": {},
   "outputs": [
    {
     "data": {
      "text/plain": [
       "array([0.53220535, 0.63760865, 0.73125515])"
      ]
     },
     "execution_count": 13,
     "metadata": {},
     "output_type": "execute_result"
    }
   ],
   "source": [
    "a1 = np.array([a1_1, a2_1, a3_1])\n",
    "a1"
   ]
  },
  {
   "cell_type": "code",
   "execution_count": 15,
   "id": "407c6fc8-5b60-4def-b295-1bb5f227fe5a",
   "metadata": {},
   "outputs": [
    {
     "data": {
      "text/plain": [
       "0.5987162049704826"
      ]
     },
     "execution_count": 15,
     "metadata": {},
     "output_type": "execute_result"
    }
   ],
   "source": [
    "a1_2 = sigmoid(np.dot(w1_2, a1))\n",
    "a1_2"
   ]
  },
  {
   "cell_type": "code",
   "execution_count": 16,
   "id": "b5964a97-d137-467c-a2bc-0ba5e2674832",
   "metadata": {},
   "outputs": [],
   "source": [
    "W1 = np.array([w1_1, w2_1, w3_1])"
   ]
  },
  {
   "cell_type": "code",
   "execution_count": 17,
   "id": "c5347ac1-f04a-436b-a74f-25c0503b7a11",
   "metadata": {},
   "outputs": [
    {
     "data": {
      "text/plain": [
       "array([[0.1, 0.2, 0.3, 0.4],\n",
       "       [0.5, 0.6, 0.7, 0.8],\n",
       "       [0.9, 1. , 1.1, 1.2]])"
      ]
     },
     "execution_count": 17,
     "metadata": {},
     "output_type": "execute_result"
    }
   ],
   "source": [
    "W1"
   ]
  },
  {
   "cell_type": "code",
   "execution_count": 19,
   "id": "2e02af63-3821-48d4-8ff1-5d9426e7e856",
   "metadata": {},
   "outputs": [
    {
     "data": {
      "text/plain": [
       "array([0.53220535, 0.63760865, 0.73125515])"
      ]
     },
     "execution_count": 19,
     "metadata": {},
     "output_type": "execute_result"
    }
   ],
   "source": [
    "sigmoid(W1 @ a0)"
   ]
  },
  {
   "cell_type": "code",
   "execution_count": null,
   "id": "4aecf739-b5f2-4ffe-adfa-705a05c33185",
   "metadata": {},
   "outputs": [],
   "source": []
  }
 ],
 "metadata": {
  "kernelspec": {
   "display_name": "Python 3 (ipykernel)",
   "language": "python",
   "name": "python3"
  },
  "language_info": {
   "codemirror_mode": {
    "name": "ipython",
    "version": 3
   },
   "file_extension": ".py",
   "mimetype": "text/x-python",
   "name": "python",
   "nbconvert_exporter": "python",
   "pygments_lexer": "ipython3",
   "version": "3.8.15"
  }
 },
 "nbformat": 4,
 "nbformat_minor": 5
}
